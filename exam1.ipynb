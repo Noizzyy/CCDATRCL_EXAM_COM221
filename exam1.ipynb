{
  "cells": [
    {
      "cell_type": "markdown",
      "metadata": {
        "id": "yaz2B0KGFehP"
      },
      "source": [
        "# Midterm Exam 💛💙"
      ]
    },
    {
      "cell_type": "markdown",
      "metadata": {
        "id": "_DmK1ONEFehQ"
      },
      "source": [
        "**Instructions** ❗️❗️\n",
        "\n",
        "❌ Do not remove or modify the notebook **sections**, **subsections**, **exam questions** or **any text** in this python notebook\n",
        "\n",
        "✔️ Put your answer in the designated cells below each question"
      ]
    },
    {
      "cell_type": "markdown",
      "metadata": {
        "id": "TMCAXKWCFehR"
      },
      "source": [
        "## Search"
      ]
    },
    {
      "cell_type": "code",
      "execution_count": 1,
      "metadata": {
        "id": "Fy8nEBRRFehR"
      },
      "outputs": [],
      "source": [
        "def linearSearch(my_list, number):\n",
        "\n",
        "    index = 0\n",
        "\n",
        "    for i in my_list:\n",
        "\n",
        "        if my_list[index] == number:\n",
        "            return index\n",
        "\n",
        "        index = index + 1\n",
        "\n",
        "    return -1"
      ]
    },
    {
      "cell_type": "markdown",
      "metadata": {
        "id": "AjAevpueFehS"
      },
      "source": [
        "1. Using **linear search**, write a `findLargestIncrease()` function to find the largest increase in value between two adjacent numbers in your student number `(10 points)`\n",
        "\n",
        "    **Example:**\n",
        "\n",
        "    student_number = [2,0,2,2,6,2,5,1,9,3]\n",
        "\n",
        "    **Expected Output:**\n",
        "\n",
        "    findLargestIncrease(student_number)\n",
        "\n",
        "    Output: Between 1 and 9\n",
        "\n",
        "    **Explanation:**\n",
        "\n",
        "    From this student_number, the largest increase happened from number 1 to number 9"
      ]
    },
    {
      "cell_type": "code",
      "execution_count": 2,
      "metadata": {
        "id": "JE8nEfyJFehS",
        "outputId": "d26808fa-d44d-4994-e300-c569e27112e0",
        "colab": {
          "base_uri": "https://localhost:8080/"
        }
      },
      "outputs": [
        {
          "output_type": "stream",
          "name": "stdout",
          "text": [
            "Output: Between 2 and 6\n"
          ]
        }
      ],
      "source": [
        "# put your answer here\n",
        "\n",
        "def findLargestIncrease(student_number):\n",
        "    largest_increase = -1\n",
        "    start_index = -1\n",
        "    end_index = -1\n",
        "\n",
        "    for i in range(len(student_number) - 1):\n",
        "        increase = student_number[i + 1] - student_number[i]\n",
        "\n",
        "        if increase > largest_increase:\n",
        "            largest_increase = increase\n",
        "            start_index = i\n",
        "            end_index = i + 1\n",
        "\n",
        "    if largest_increase == -1:\n",
        "        return \"No increase found\"\n",
        "    else:\n",
        "        return f\"Between {student_number[start_index]} and {student_number[end_index]}\"\n",
        "\n",
        "\n",
        "student_number = [2, 0, 2, 2, 1, 0, 2, 2, 6, 9]\n",
        "result = findLargestIncrease(student_number)\n",
        "print(\"Output:\", result)"
      ]
    },
    {
      "cell_type": "markdown",
      "metadata": {
        "id": "nMyr1fNyFehS"
      },
      "source": [
        "2. Using **linear search**, write a `findLargestDecrease()` function to find the largest decrease in value between two adjacent numbers in your student number `(10 points)`\n",
        "\n",
        "    **Example:**\n",
        "\n",
        "    student_number = [2,0,2,2,6,2,5,1,9,3]\n",
        "\n",
        "    **Expected Output:**\n",
        "\n",
        "    findLargestDecrease(student_number)\n",
        "\n",
        "    Output: Between 9 and 3\n",
        "\n",
        "    **Explanation:**\n",
        "\n",
        "    From this student_number, the largest decrease happened from number 9 to number 3"
      ]
    },
    {
      "cell_type": "code",
      "execution_count": 3,
      "metadata": {
        "id": "bfMfQVbVFehS",
        "outputId": "3bb2cc4d-ce26-4524-e77f-c23d701996c5",
        "colab": {
          "base_uri": "https://localhost:8080/"
        }
      },
      "outputs": [
        {
          "output_type": "stream",
          "name": "stdout",
          "text": [
            "Output: Between 2 and 0\n"
          ]
        }
      ],
      "source": [
        "# put your answer here\n",
        "\n",
        "def findLargestDecrease(student_number):\n",
        "    largest_decrease = 0\n",
        "    start_index = -1\n",
        "    end_index = -1\n",
        "\n",
        "    for i in range(len(student_number) - 1):\n",
        "        decrease = student_number[i] - student_number[i + 1]\n",
        "\n",
        "        if decrease > largest_decrease:\n",
        "            largest_decrease = decrease\n",
        "            start_index = i\n",
        "            end_index = i + 1\n",
        "\n",
        "    if largest_decrease == 0:\n",
        "        return \"No decrease found\"\n",
        "    else:\n",
        "        return f\"Between {student_number[start_index]} and {student_number[end_index]}\"\n",
        "\n",
        "student_number = [2, 0, 2, 2, 1, 0, 2, 2, 6, 9]\n",
        "result = findLargestDecrease(student_number)\n",
        "print(\"Output:\", result)"
      ]
    },
    {
      "cell_type": "markdown",
      "metadata": {
        "id": "NtKSQn9QFehS"
      },
      "source": [
        "## Linked List"
      ]
    },
    {
      "cell_type": "code",
      "execution_count": 5,
      "metadata": {
        "id": "0HP5zyJcFehS"
      },
      "outputs": [],
      "source": [
        "class Node:\n",
        "\n",
        "    def __init__(self, data):\n",
        "        self.data = data\n",
        "        self.next = None  # null"
      ]
    },
    {
      "cell_type": "code",
      "execution_count": 6,
      "metadata": {
        "id": "A-8Uefe7FehS"
      },
      "outputs": [],
      "source": [
        "class LinkedList:\n",
        "\n",
        "    def __init__(self):\n",
        "        self.head = None\n",
        "\n",
        "    def traverse(self, node):\n",
        "        while node:\n",
        "            print(node.data, end=\" -> \")\n",
        "            node = node.next"
      ]
    },
    {
      "cell_type": "markdown",
      "metadata": {
        "id": "uPgIJJuSFehT"
      },
      "source": [
        "**Instructions** ❗️❗️\n",
        "\n",
        "Use the pre-defined linked list class/functions to create a linked list"
      ]
    },
    {
      "cell_type": "markdown",
      "metadata": {
        "id": "WIwpW7Q2FehT"
      },
      "source": [
        "1. Create a Singly linked list named **num_list** and print all of its elements. `(5 points)`\n",
        "\n",
        "- **num_list** should contain all digits of your student number.\n",
        "\n",
        "    **Expected Output:**\n",
        "\n",
        "    print(num_list)\n",
        "\n",
        "    [2, 0, 2, 2, 1, 2, 3, 4, 5, 6]"
      ]
    },
    {
      "cell_type": "code",
      "execution_count": 7,
      "metadata": {
        "id": "Lihv0JPiFehT",
        "outputId": "ac679a7a-2c77-471b-abb9-4b2bff43686f",
        "colab": {
          "base_uri": "https://localhost:8080/"
        }
      },
      "outputs": [
        {
          "output_type": "stream",
          "name": "stdout",
          "text": [
            "[2, 0, 2, 2, 1, 0, 2, 2, 6, 9]\n"
          ]
        }
      ],
      "source": [
        "# put your answer here\n",
        "\n",
        "student_number = \"2022102269\"\n",
        "\n",
        "num_list = LinkedList()\n",
        "\n",
        "for digit in student_number:\n",
        "    num_list_node = Node(int(digit))\n",
        "    if num_list.head is None:\n",
        "        num_list.head = num_list_node\n",
        "    else:\n",
        "        current_node = num_list.head\n",
        "        while current_node.next is not None:\n",
        "            current_node = current_node.next\n",
        "        current_node.next = num_list_node\n",
        "\n",
        "result = []\n",
        "current_node = num_list.head\n",
        "while current_node:\n",
        "    result.append(current_node.data)\n",
        "    current_node = current_node.next\n",
        "\n",
        "print(result)"
      ]
    },
    {
      "cell_type": "markdown",
      "metadata": {
        "id": "dqA2UYrYFehT"
      },
      "source": [
        "2. Write a `hasPrime()` function to test whether a prime number is in the last six digits of **num_list**. `(5 points)`\n",
        "\n",
        "- If a prime number is in the last six digits of **num_list**, the method should return **true**\n",
        "\n",
        "- If a prime number is not in the last six digits of **num_list**, the method should return **false**\n",
        "\n",
        "    **Expected Output:**\n",
        "\n",
        "    hasPrime(num_list)\n",
        "\n",
        "    True"
      ]
    },
    {
      "cell_type": "code",
      "execution_count": 8,
      "metadata": {
        "id": "GYwsQNz5FehT",
        "outputId": "c195387e-950f-4021-9680-a8b5ab428eff",
        "colab": {
          "base_uri": "https://localhost:8080/"
        }
      },
      "outputs": [
        {
          "output_type": "stream",
          "name": "stdout",
          "text": [
            "True\n"
          ]
        }
      ],
      "source": [
        "# put your answer here\n",
        "\n",
        "# Student Number: 2022102269\n",
        "\n",
        "def is_prime(num):\n",
        "    if num <= 1:\n",
        "        return False\n",
        "    if num == 2:\n",
        "        return True\n",
        "    if num % 2 == 0:\n",
        "        return False\n",
        "    for i in range(3, int(num**0.5) + 1, 2):\n",
        "        if num % i == 0:\n",
        "            return False\n",
        "    return True\n",
        "\n",
        "def hasPrime(num_list):\n",
        "    last_six_digits = \"\"\n",
        "    current_node = num_list.head\n",
        "\n",
        "    while current_node:\n",
        "        last_six_digits += str(current_node.data)\n",
        "        current_node = current_node.next\n",
        "\n",
        "    last_six_digits = last_six_digits[-6:]\n",
        "    for digit in last_six_digits:\n",
        "        if is_prime(int(digit)):\n",
        "            return True\n",
        "    return False\n",
        "\n",
        "result = hasPrime(num_list)\n",
        "print(result)"
      ]
    },
    {
      "cell_type": "markdown",
      "metadata": {
        "id": "5Qb0BOiwFehT"
      },
      "source": [
        "3. Write a `removeZeroes()` function to remove all occurrences of zeroes in **num_list**. `(5 points)`\n",
        "\n",
        "- If a zero is in **num_list**, return **num_list**\n",
        "\n",
        "- If there are no zeroes in **num_list**, return **\"no zeros found\"**\n",
        "\n",
        "    **Expected Output:**\n",
        "\n",
        "    removeZeroes(num_list)\n",
        "\n",
        "    [2, 2, 1, 2, 3, 4, 5, 6]"
      ]
    },
    {
      "cell_type": "code",
      "execution_count": 10,
      "metadata": {
        "id": "k1vAHUYuFehT",
        "outputId": "00489ba0-3618-4dad-e957-9b356cd373aa",
        "colab": {
          "base_uri": "https://localhost:8080/"
        }
      },
      "outputs": [
        {
          "output_type": "stream",
          "name": "stdout",
          "text": [
            "[2, 2, 2, 1, 2, 2, 6, 9]\n"
          ]
        }
      ],
      "source": [
        "# put your answer here\n",
        "# Student Number: 2022102269\n",
        "def removeZeroes(num_list):\n",
        "    if num_list.head is None:\n",
        "        return \"No zeros found\"\n",
        "\n",
        "    # Remove leading zeros\n",
        "    while num_list.head and num_list.head.data == 0:\n",
        "        num_list.head = num_list.head.next\n",
        "\n",
        "    current_node = num_list.head\n",
        "    result_list = []\n",
        "\n",
        "    while current_node:\n",
        "        if current_node.data != 0:\n",
        "            result_list.append(current_node.data)\n",
        "        current_node = current_node.next\n",
        "\n",
        "    if not result_list:\n",
        "        return \"No zeros found\"\n",
        "\n",
        "    return result_list\n",
        "\n",
        "result = removeZeroes(num_list)\n",
        "print(result)"
      ]
    },
    {
      "cell_type": "markdown",
      "metadata": {
        "id": "SKAlpglNFehT"
      },
      "source": [
        "4. Insert a dash symbol between the 4th and 5th digit in **num_list**. `(5 points)`\n",
        "\n",
        "    **Expected Output:**\n",
        "\n",
        "    print(num_list)\n",
        "\n",
        "    [2, 0, 2, 2, \"-\", 1, 2, 3, 4, 5, 6]"
      ]
    },
    {
      "cell_type": "code",
      "execution_count": 12,
      "metadata": {
        "id": "vF7fimZ-FehT",
        "outputId": "daf2c6d3-fc20-406d-eef9-8a8b5ca9e377",
        "colab": {
          "base_uri": "https://localhost:8080/"
        }
      },
      "outputs": [
        {
          "output_type": "stream",
          "name": "stdout",
          "text": [
            "[2, 0, 2, 2, '-', 1, 0, 2, 2, 6, 9]\n"
          ]
        }
      ],
      "source": [
        "# put your answer here\n",
        "# Student Number: 2022102269\n",
        "num_list = LinkedList()\n",
        "\n",
        "for i, digit in enumerate(student_number):\n",
        "    num_list_node = Node(int(digit))\n",
        "    if i == 4:\n",
        "        dash_node = Node(\"-\")\n",
        "        dash_node.next = num_list_node\n",
        "        num_list_node = dash_node\n",
        "\n",
        "    if num_list.head is None:\n",
        "        num_list.head = num_list_node\n",
        "    else:\n",
        "        current_node = num_list.head\n",
        "        while current_node.next is not None:\n",
        "            current_node = current_node.next\n",
        "        current_node.next = num_list_node\n",
        "\n",
        "result = []\n",
        "current_node = num_list.head\n",
        "while current_node:\n",
        "    result.append(current_node.data)\n",
        "    current_node = current_node.next\n",
        "\n",
        "print(result)"
      ]
    },
    {
      "cell_type": "markdown",
      "metadata": {
        "id": "KkC-LgdxFehT"
      },
      "source": [
        "## Stack"
      ]
    },
    {
      "cell_type": "code",
      "execution_count": 13,
      "metadata": {
        "id": "UYTqB1u_FehU"
      },
      "outputs": [],
      "source": [
        "# Creating a stack\n",
        "def create_stack():\n",
        "    stack = []\n",
        "    return stack\n",
        "\n",
        "\n",
        "def print_stack(stack):\n",
        "\n",
        "    if (check_empty(stack)):\n",
        "        return \"stack is empty\"\n",
        "\n",
        "    # Create a copy of the stack and reverse the elements\n",
        "    tempStack = stack.copy()\n",
        "    tempStack.reverse()\n",
        "\n",
        "    # Print all elements using a loop\n",
        "    for i in tempStack:\n",
        "        print(i)\n",
        "\n",
        "    # Delete the copy to free up memory\n",
        "    del tempStack\n",
        "\n",
        "# Creating an empty stack\n",
        "\n",
        "\n",
        "def check_empty(stack):\n",
        "    return len(stack) == 0\n",
        "\n",
        "\n",
        "# Adding items into the stack\n",
        "def push(stack, item):\n",
        "    stack.append(item)\n",
        "    print(\"pushed item: \" + item)\n",
        "\n",
        "\n",
        "# Removing an element from the stack\n",
        "def pop(stack):\n",
        "    if (check_empty(stack)):\n",
        "        return \"stack is empty\"\n",
        "\n",
        "    return stack.pop()\n",
        "\n",
        "\n",
        "def peek(stack):\n",
        "\n",
        "    # Use negative indexing to display the last element of the list\n",
        "    print(stack[-1])"
      ]
    },
    {
      "cell_type": "markdown",
      "metadata": {
        "id": "wLAQchs8FehU"
      },
      "source": [
        "**Instructions** ❗️❗️\n",
        "\n",
        "Use the pre-defined stack class/functions to create a stack"
      ]
    },
    {
      "cell_type": "markdown",
      "metadata": {
        "id": "37cg9BoCFehU"
      },
      "source": [
        "1. Create two (2) stacks named **name_stack** and **num_stack** `(5 points)`\n",
        "\n",
        "- **name_stack** should contain all letters of your first name.\n",
        "- **num_stack** should contain all digits of your student number.\n",
        "\n",
        "    **Expected Output:**\n",
        "\n",
        "    print(name_stack)\n",
        "\n",
        "    ['E', 'L', 'I', 'Z', 'E', 'R']\n",
        "\n",
        "    print(num_stack)\n",
        "\n",
        "    [2,0,2,2,1,2,3,4,5,6]"
      ]
    },
    {
      "cell_type": "code",
      "execution_count": 16,
      "metadata": {
        "id": "HlUIUQzQFehU",
        "outputId": "475897b5-5fdd-4341-e268-8553f3789b97",
        "colab": {
          "base_uri": "https://localhost:8080/"
        }
      },
      "outputs": [
        {
          "output_type": "stream",
          "name": "stdout",
          "text": [
            "pushed item: R\n",
            "pushed item: O\n",
            "pushed item: V\n",
            "pushed item: I\n",
            "pushed item: C\n",
            "\n",
            "['R', 'O', 'V', 'I', 'C']\n",
            "[2, 0, 2, 2, 1, 0, 2, 2, 6, 9]\n"
          ]
        }
      ],
      "source": [
        "# put your answer here\n",
        "name_stack = create_stack()\n",
        "num_stack = create_stack()\n",
        "\n",
        "first_name = \"ROVIC\"\n",
        "\n",
        "for letter in first_name:\n",
        "    push(name_stack, letter)\n",
        "\n",
        "student_number = [2, 0, 2, 2, 1, 0, 2, 2, 6, 9]\n",
        "\n",
        "for digit in student_number:\n",
        "    num_stack.append(digit)\n",
        "\n",
        "print(\"\")\n",
        "print(name_stack)\n",
        "print(num_stack)"
      ]
    },
    {
      "cell_type": "markdown",
      "metadata": {
        "id": "8cySe9LXFehU"
      },
      "source": [
        "2. Create a stack named **my_stack** that follows the following format: `(5 points)`\n",
        "\n",
        "- The first element should be the **5th digit in your student number**\n",
        "- The succeeding elements should be the letters of your **first name**\n",
        "- The last element should be the **last digit of your student number**\n",
        "\n",
        "    **Expected Output:**\n",
        "\n",
        "    my_stack = [1, E, L, I, Z, E, R, 6]"
      ]
    },
    {
      "cell_type": "code",
      "execution_count": 18,
      "metadata": {
        "id": "bEnCoAhjFehU",
        "outputId": "6027ff8b-4f92-41ad-a9a7-b4fa252d2c7c",
        "colab": {
          "base_uri": "https://localhost:8080/"
        }
      },
      "outputs": [
        {
          "output_type": "stream",
          "name": "stdout",
          "text": [
            "my_stack = [1, 'R', 'O', 'V', 'I', 'C', 9]\n"
          ]
        }
      ],
      "source": [
        "# put your answer here\n",
        "# Student Number: 2022102269\n",
        "my_stack = create_stack()\n",
        "\n",
        "my_stack.append(student_number[4])\n",
        "for letter in first_name:\n",
        "  my_stack.append(letter)\n",
        "my_stack.append(student_number[-1])\n",
        "\n",
        "print(\"my_stack =\", my_stack)"
      ]
    },
    {
      "cell_type": "markdown",
      "metadata": {
        "id": "8a8_KP5nFehU"
      },
      "source": [
        "3. Write a `verifyStack()` function that will take in `my_stack` and check if its format has been followed `(10 points)`\n",
        "\n",
        "- Return **True** if the format has been followed\n",
        "- Return **False** if the format was not followed\n",
        "- Verify the format by checking the contents of **my_stack** with **name_stack** and **num_stack**\n",
        "\n",
        "    **Expected Output:**\n",
        "\n",
        "    my_stack = [1, E, L, I, Z, E, R, 6]\n",
        "\n",
        "    verifyStack(my_stack)\n",
        "\n",
        "    True\n",
        "\n",
        "    my_stack = [1, S, L, I, Z, E, R, 7]\n",
        "\n",
        "    verifyStack(my_stack)\n",
        "\n",
        "    False"
      ]
    },
    {
      "cell_type": "code",
      "execution_count": 20,
      "metadata": {
        "id": "RdANSxD0FehU",
        "outputId": "c37ade79-03c2-4c56-9210-4dbb296eee0d",
        "colab": {
          "base_uri": "https://localhost:8080/"
        }
      },
      "outputs": [
        {
          "output_type": "stream",
          "name": "stdout",
          "text": [
            "verifyStack(my_stack1) Output: True\n",
            "verifyStack(my_stack2) Output: False\n"
          ]
        }
      ],
      "source": [
        "# put your answer here\n",
        "# Student Number: 2022102269\n",
        "def verifyStack(my_stack):\n",
        "\n",
        "    last_digit = int(str(my_stack[-1]))\n",
        "\n",
        "    characters = my_stack[1:-1]\n",
        "\n",
        "    return last_digit == 5 and characters == name_stack\n",
        "\n",
        "my_stack1 = [1, 'R', 'O', 'V', 'I','C', 5]\n",
        "print(\"verifyStack(my_stack1) Output:\", verifyStack(my_stack1))\n",
        "\n",
        "my_stack2 = [1, 'C', 'I', 'V', 'O','R', 6]\n",
        "print(\"verifyStack(my_stack2) Output:\", verifyStack(my_stack2))"
      ]
    },
    {
      "cell_type": "markdown",
      "metadata": {
        "id": "UC5C64B2FehU"
      },
      "source": [
        "## Queue"
      ]
    },
    {
      "cell_type": "code",
      "execution_count": 23,
      "metadata": {
        "id": "NJJ0j0LHFehU"
      },
      "outputs": [],
      "source": [
        "class Queue:\n",
        "    def __init__(self):\n",
        "        self.queue = []\n",
        "\n",
        "    # Add an element\n",
        "    def enqueue(self, item):\n",
        "        self.queue.append(item)\n",
        "\n",
        "    # Remove an element\n",
        "    def dequeue(self):\n",
        "        if len(self.queue) < 1:\n",
        "            return None\n",
        "        return self.queue.pop(0)\n",
        "\n",
        "    # Display  the queue\n",
        "    def display(self):\n",
        "        print(self.queue)\n",
        "\n",
        "    def size(self):\n",
        "        return len(self.queue)\n",
        "\n",
        "    def peek(self):\n",
        "        return self.queue[0]"
      ]
    },
    {
      "cell_type": "markdown",
      "metadata": {
        "id": "80OekpbeFehV"
      },
      "source": [
        "**Instructions** ❗️❗️\n",
        "\n",
        "Use the pre-defined queue class/functions to create a Queue"
      ]
    },
    {
      "cell_type": "markdown",
      "metadata": {
        "id": "_Hf0OP5cFehV"
      },
      "source": [
        "1. Create a simple queue named **num_queue** `(5 points)`\n",
        "\n",
        "- **num_queue** should contain all digits of your student number.\n",
        "\n",
        "    **Expected Output:**\n",
        "\n",
        "    print(num_queue)\n",
        "\n",
        "    [2,0,2,2,1,2,3,4,5,6]"
      ]
    },
    {
      "cell_type": "code",
      "execution_count": 24,
      "metadata": {
        "id": "_mgmE4ArFehV",
        "outputId": "998f7c7e-3062-45e9-8e7d-bc0a46a38d57",
        "colab": {
          "base_uri": "https://localhost:8080/"
        }
      },
      "outputs": [
        {
          "output_type": "stream",
          "name": "stdout",
          "text": [
            "[2, 0, 2, 2, 1, 0, 2, 2, 6, 9]\n"
          ]
        }
      ],
      "source": [
        "# put your answer here\n",
        "student_number = [2, 0, 2, 2, 1, 0, 2, 2, 6, 9]\n",
        "\n",
        "num_queue = Queue()\n",
        "\n",
        "for i in student_number:\n",
        "    num_queue.enqueue(i)\n",
        "\n",
        "num_queue.display()"
      ]
    },
    {
      "cell_type": "markdown",
      "metadata": {
        "id": "1pHG8t6DFehV"
      },
      "source": [
        "2. Write a `getMax()` or `getMin()` function for **num_queue** `(5 points)`\n",
        "\n",
        "- If your student number ends with an odd number, create a `getMax()` function that will return the largest number in **num_queue**\n",
        "- If your student number ends with an even number, create a `getMin()` function that will return the lowest number in **num_queue**\n",
        "\n",
        "    **Expected Output for getMax():**\n",
        "\n",
        "    getMax(num_queue)\n",
        "\n",
        "    6\n",
        "\n",
        "    **Expected Output for getMin():**\n",
        "\n",
        "    getMin(num_queue)\n",
        "\n",
        "    0"
      ]
    },
    {
      "cell_type": "code",
      "execution_count": 25,
      "metadata": {
        "id": "itj2U610FehV",
        "outputId": "650caefe-98dd-4aec-986b-eb2a9eb00af7",
        "colab": {
          "base_uri": "https://localhost:8080/"
        }
      },
      "outputs": [
        {
          "output_type": "stream",
          "name": "stdout",
          "text": [
            "Largest Number: 9\n"
          ]
        }
      ],
      "source": [
        "# put your answer here\n",
        "\n",
        "# Student Number: 2022102269\n",
        "\n",
        "def getMax(num_queue):\n",
        "\n",
        "    if num_queue.size() == 0:\n",
        "        return None\n",
        "\n",
        "    max_number = num_queue.peek()\n",
        "\n",
        "    while num_queue.size() > 0:\n",
        "        num = num_queue.dequeue()\n",
        "        max_number = max(max_number, num)\n",
        "\n",
        "    return max_number\n",
        "\n",
        "for i in student_number:\n",
        "    num_queue.enqueue(i)\n",
        "\n",
        "print(\"Largest Number:\", getMax(num_queue))"
      ]
    },
    {
      "cell_type": "markdown",
      "metadata": {
        "id": "YkgmP6GwFehV"
      },
      "source": [
        "3. Write a `getOdd()` or `getEven()` function for  **num_queue** `(5 points)`\n",
        "\n",
        "- If your student number ends with an **odd number**, create a `getOdd()` function that will return all odd numbers in **num_queue**\n",
        "- If your student number ends with an **even number**, create a `getEven()` function that will return all even numbers in **num_queue**\n",
        "\n",
        "    **Expected Output for getOdd():**\n",
        "\n",
        "    getOdd(num_queue)\n",
        "\n",
        "    [1, 3, 5]\n",
        "\n",
        "    **Expected Output for getEven():**\n",
        "\n",
        "    getEven(num_queue)\n",
        "\n",
        "    [0, 2, 4, 6]"
      ]
    },
    {
      "cell_type": "code",
      "execution_count": 27,
      "metadata": {
        "id": "2Bc7E1zNFehV",
        "outputId": "cbd77fcc-2415-4019-d717-8f9b6bddc8da",
        "colab": {
          "base_uri": "https://localhost:8080/"
        }
      },
      "outputs": [
        {
          "output_type": "stream",
          "name": "stdout",
          "text": [
            "Odd Numbers: [1, 9]\n"
          ]
        }
      ],
      "source": [
        "# put your answer here\n",
        "\n",
        "# Student Number: 2022102269\n",
        "def getOdd(num_queue):\n",
        "\n",
        "    odd_numbers = []\n",
        "\n",
        "    while num_queue.size() > 0:\n",
        "        num = num_queue.dequeue()\n",
        "        if num % 2 != 0:\n",
        "            odd_numbers.append(num)\n",
        "\n",
        "    for odd in odd_numbers:\n",
        "        num_queue.enqueue(odd)\n",
        "\n",
        "    return odd_numbers\n",
        "\n",
        "num_queue = Queue()\n",
        "\n",
        "for i in student_number:\n",
        "    num_queue.enqueue(i)\n",
        "\n",
        "print(\"Odd Numbers:\", getOdd(num_queue))"
      ]
    },
    {
      "cell_type": "markdown",
      "metadata": {
        "id": "kuzWF5g4FehV"
      },
      "source": [
        "4. Write a `removeDup()` function that will remove all duplicates in **num_queue** `(5 points)`\n",
        "\n",
        "    **Expected Output:**\n",
        "\n",
        "    removeDup(num_queue)\n",
        "\n",
        "    [2,0,1,3,4,5,6]"
      ]
    },
    {
      "cell_type": "code",
      "execution_count": 29,
      "metadata": {
        "id": "I8LeQP8MFehY",
        "outputId": "afaba3e7-4ee8-41f8-8a6b-70f71b3856c6",
        "colab": {
          "base_uri": "https://localhost:8080/"
        }
      },
      "outputs": [
        {
          "output_type": "stream",
          "name": "stdout",
          "text": [
            "Deduplicated Queue: [2, 0, 1, 5]\n"
          ]
        }
      ],
      "source": [
        "# put your answer here\n",
        "# Student Number: 2022102269\n",
        "def removeDup(num_queue):\n",
        "\n",
        "    unique_list = []\n",
        "\n",
        "    while num_queue.size() > 0:\n",
        "        num = num_queue.dequeue()\n",
        "        if num not in unique_list:\n",
        "            unique_list.append(num)\n",
        "\n",
        "    for unique_num in unique_list:\n",
        "        num_queue.enqueue(unique_num)\n",
        "\n",
        "num_queue = Queue()\n",
        "\n",
        "for i in student_number:\n",
        "    num_queue.enqueue(i)\n",
        "\n",
        "removeDup(num_queue)\n",
        "\n",
        "print(\"Deduplicated Queue:\", end=\" \")\n",
        "\n",
        "num_queue.display()"
      ]
    },
    {
      "cell_type": "markdown",
      "metadata": {
        "id": "LVfZTh8YFehZ"
      },
      "source": [
        "## Sort"
      ]
    },
    {
      "cell_type": "markdown",
      "metadata": {
        "id": "bm9lonfzFehZ"
      },
      "source": [
        "**Instructions** ❗️❗️\n",
        "\n",
        "Use the any sorting algoritms"
      ]
    },
    {
      "cell_type": "markdown",
      "metadata": {
        "id": "EJTlxhEdFehZ"
      },
      "source": [
        "1. Using any sorting algorithm, sort the **last 6 digits** of your student number in ascending order `(5 points)`\n",
        "\n",
        "    **Example:**\n",
        "\n",
        "    student_number = [2,0,2,2,6,2,5,1,3,4]\n",
        "\n",
        "    **Expected Output:**\n",
        "\n",
        "    print(student_number)\n",
        "\n",
        "    [2,0,2,2,1,2,3,4,5,6]\n"
      ]
    },
    {
      "cell_type": "code",
      "execution_count": 30,
      "metadata": {
        "id": "MkZKfveOFehZ",
        "outputId": "bbc32646-365a-45cc-9d44-cad83b16c5e2",
        "colab": {
          "base_uri": "https://localhost:8080/"
        }
      },
      "outputs": [
        {
          "output_type": "stream",
          "name": "stdout",
          "text": [
            "[2, 0, 2, 2, 0, 1, 2, 2, 6, 9]\n"
          ]
        }
      ],
      "source": [
        "# put your answer here\n",
        "# Student Number: 2022102269\n",
        "student_number = [2, 0, 2, 2, 1, 0, 2, 2, 6, 9]\n",
        "\n",
        "sorted_digits = sorted(student_number[-6:])\n",
        "\n",
        "student_number[-6:] = sorted_digits\n",
        "\n",
        "print(student_number)"
      ]
    },
    {
      "cell_type": "markdown",
      "metadata": {
        "id": "sC2JZRZMFehZ"
      },
      "source": [
        "2. Using your student_number, separately sort the even numbers in **increasing order** and the odd numbers in **decreasing order** `(15 points)`\n",
        "\n",
        "    **Example:**\n",
        "\n",
        "    student_number = [2,0,2,2,1,2,3,4,5,6]\n",
        "\n",
        "    **Expected Output:**\n",
        "\n",
        "    print(student_number)\n",
        "\n",
        "    [0,2,2,2,2,4,6,5,3,1]"
      ]
    },
    {
      "cell_type": "code",
      "execution_count": 31,
      "metadata": {
        "id": "hWOh_ohcFehZ",
        "outputId": "f7c35977-4fe2-4703-8c31-fb483c378fdb",
        "colab": {
          "base_uri": "https://localhost:8080/"
        }
      },
      "outputs": [
        {
          "output_type": "stream",
          "name": "stdout",
          "text": [
            "[0, 0, 2, 2, 2, 2, 2, 6, 9, 1]\n"
          ]
        }
      ],
      "source": [
        "# put your answer here\n",
        "# Student Number: 2022102269\n",
        "even_numbers = [x for x in student_number if x % 2 == 0]\n",
        "odd_numbers = [x for x in student_number if x % 2 != 0]\n",
        "\n",
        "even_numbers.sort()\n",
        "odd_numbers.sort(reverse=True)\n",
        "\n",
        "sorted_student_number = even_numbers + odd_numbers\n",
        "\n",
        "print(sorted_student_number)"
      ]
    }
  ],
  "metadata": {
    "kernelspec": {
      "display_name": "Python 3",
      "language": "python",
      "name": "python3"
    },
    "language_info": {
      "codemirror_mode": {
        "name": "ipython",
        "version": 3
      },
      "file_extension": ".py",
      "mimetype": "text/x-python",
      "name": "python",
      "nbconvert_exporter": "python",
      "pygments_lexer": "ipython3",
      "version": "3.9.13"
    },
    "orig_nbformat": 4,
    "colab": {
      "provenance": []
    }
  },
  "nbformat": 4,
  "nbformat_minor": 0
}